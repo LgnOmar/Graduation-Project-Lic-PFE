{
 "cells": [
  {
   "cell_type": "code",
   "execution_count": 16,
   "id": "adbe1b97-7155-4bac-a04e-7e975040ec15",
   "metadata": {},
   "outputs": [
    {
     "name": "stdout",
     "output_type": "stream",
     "text": [
      "   userId  movieId  rating  timestamp\n",
      "0     196      242       3  881250949\n",
      "1     186      302       3  891717742\n",
      "2      22      377       1  878887116\n",
      "3     244       51       2  880606923\n",
      "4     166      346       1  886397596\n"
     ]
    }
   ],
   "source": [
    "import pandas as pd\n",
    "# Assuming the file u.data is located in your current directory or give the full path.\n",
    "ratings = pd.read_csv('ml-100k/u.data', \n",
    "                      sep='\\t',      # u.data is tab-separated\n",
    "                      names=['userId', 'movieId', 'rating', 'timestamp'])\n",
    "\n",
    "# Display the first few rows to confirm successful loading.\n",
    "print(ratings.head())"
   ]
  },
  {
   "cell_type": "code",
   "execution_count": 7,
   "id": "23682d8e-50c6-48b0-bd88-8c49c51f41a3",
   "metadata": {},
   "outputs": [
    {
     "name": "stdout",
     "output_type": "stream",
     "text": [
      "   movieId              title release_date  video_release_date  \\\n",
      "0        1   Toy Story (1995)  01-Jan-1995                 NaN   \n",
      "1        2   GoldenEye (1995)  01-Jan-1995                 NaN   \n",
      "2        3  Four Rooms (1995)  01-Jan-1995                 NaN   \n",
      "3        4  Get Shorty (1995)  01-Jan-1995                 NaN   \n",
      "4        5     Copycat (1995)  01-Jan-1995                 NaN   \n",
      "\n",
      "                                            IMDb_URL  unknown  Action  \\\n",
      "0  http://us.imdb.com/M/title-exact?Toy%20Story%2...        0       0   \n",
      "1  http://us.imdb.com/M/title-exact?GoldenEye%20(...        0       1   \n",
      "2  http://us.imdb.com/M/title-exact?Four%20Rooms%...        0       0   \n",
      "3  http://us.imdb.com/M/title-exact?Get%20Shorty%...        0       1   \n",
      "4  http://us.imdb.com/M/title-exact?Copycat%20(1995)        0       0   \n",
      "\n",
      "   Adventure  Animation  Children's  ...  Fantasy  Film-Noir  Horror  Musical  \\\n",
      "0          0          1           1  ...        0          0       0        0   \n",
      "1          1          0           0  ...        0          0       0        0   \n",
      "2          0          0           0  ...        0          0       0        0   \n",
      "3          0          0           0  ...        0          0       0        0   \n",
      "4          0          0           0  ...        0          0       0        0   \n",
      "\n",
      "   Mystery  Romance  Sci-Fi  Thriller  War  Western  \n",
      "0        0        0       0         0    0        0  \n",
      "1        0        0       0         1    0        0  \n",
      "2        0        0       0         1    0        0  \n",
      "3        0        0       0         0    0        0  \n",
      "4        0        0       0         1    0        0  \n",
      "\n",
      "[5 rows x 24 columns]\n"
     ]
    }
   ],
   "source": [
    "# Depending on the exact structure, you might need to provide column names.\n",
    "# Sample column names can include: movieId, title, release_date, video_release_date, IMDb URL, and then genre flags.\n",
    "import pandas as pd\n",
    "column_names = ['movieId', 'title', 'release_date', 'video_release_date', 'IMDb_URL',\n",
    "                'unknown', 'Action', 'Adventure', 'Animation', \"Children's\", 'Comedy',\n",
    "                'Crime', 'Documentary', 'Drama', 'Fantasy', 'Film-Noir', 'Horror',\n",
    "                'Musical', 'Mystery', 'Romance', 'Sci-Fi', 'Thriller', 'War', 'Western']\n",
    "\n",
    "movies = pd.read_csv('ml-100k/u.item', \n",
    "                     sep='|',  # Pipe-delimited\n",
    "                     names=column_names,\n",
    "                     encoding='latin-1')  # Some files use latin-1 encoding\n",
    "\n",
    "print(movies.head())\n"
   ]
  },
  {
   "cell_type": "code",
   "execution_count": 18,
   "id": "1d75f283-2cfe-4759-b37d-b83c2d8bdb19",
   "metadata": {},
   "outputs": [
    {
     "ename": "KeyError",
     "evalue": "'movie_id'",
     "output_type": "error",
     "traceback": [
      "\u001b[31m---------------------------------------------------------------------------\u001b[39m",
      "\u001b[31mKeyError\u001b[39m                                  Traceback (most recent call last)",
      "\u001b[32m~\\AppData\\Local\\Temp\\ipykernel_12356\\3220109621.py\u001b[39m in \u001b[36m?\u001b[39m\u001b[34m()\u001b[39m\n\u001b[32m      1\u001b[39m \u001b[38;5;66;03m# Ensure the item/movie identifier columns match. In our u.data file we called it 'item_id'\u001b[39;00m\n\u001b[32m      2\u001b[39m \u001b[38;5;66;03m# and in the movies DataFrame it is 'movie_id'. We join on these columns.\u001b[39;00m\n\u001b[32m      3\u001b[39m \n\u001b[32m      4\u001b[39m \u001b[38;5;66;03m# Merge ratings with movies\u001b[39;00m\n\u001b[32m----> \u001b[39m\u001b[32m5\u001b[39m merged_data = pd.merge(ratings, movies, left_on=\u001b[33m'item_id'\u001b[39m, right_on=\u001b[33m'movie_id'\u001b[39m)\n\u001b[32m      6\u001b[39m \n\u001b[32m      7\u001b[39m \u001b[38;5;66;03m# Display the merged DataFrame (show a few columns for clarity)\u001b[39;00m\n\u001b[32m      8\u001b[39m print(merged_data[[\u001b[33m'user_id'\u001b[39m, \u001b[33m'item_id'\u001b[39m, \u001b[33m'rating'\u001b[39m, \u001b[33m'title'\u001b[39m, \u001b[33m'release_date'\u001b[39m]].head())\n",
      "\u001b[32m~\\AppData\\Local\\Programs\\Python\\Python312\\Lib\\site-packages\\pandas\\core\\reshape\\merge.py\u001b[39m in \u001b[36m?\u001b[39m\u001b[34m(left, right, how, on, left_on, right_on, left_index, right_index, sort, suffixes, copy, indicator, validate)\u001b[39m\n\u001b[32m    166\u001b[39m             validate=validate,\n\u001b[32m    167\u001b[39m             copy=copy,\n\u001b[32m    168\u001b[39m         )\n\u001b[32m    169\u001b[39m     \u001b[38;5;28;01melse\u001b[39;00m:\n\u001b[32m--> \u001b[39m\u001b[32m170\u001b[39m         op = _MergeOperation(\n\u001b[32m    171\u001b[39m             left_df,\n\u001b[32m    172\u001b[39m             right_df,\n\u001b[32m    173\u001b[39m             how=how,\n",
      "\u001b[32m~\\AppData\\Local\\Programs\\Python\\Python312\\Lib\\site-packages\\pandas\\core\\reshape\\merge.py\u001b[39m in \u001b[36m?\u001b[39m\u001b[34m(self, left, right, how, on, left_on, right_on, left_index, right_index, sort, suffixes, indicator, validate)\u001b[39m\n\u001b[32m    790\u001b[39m             self.right_join_keys,\n\u001b[32m    791\u001b[39m             self.join_names,\n\u001b[32m    792\u001b[39m             left_drop,\n\u001b[32m    793\u001b[39m             right_drop,\n\u001b[32m--> \u001b[39m\u001b[32m794\u001b[39m         ) = self._get_merge_keys()\n\u001b[32m    795\u001b[39m \n\u001b[32m    796\u001b[39m         \u001b[38;5;28;01mif\u001b[39;00m left_drop:\n\u001b[32m    797\u001b[39m             self.left = self.left._drop_labels_or_levels(left_drop)\n",
      "\u001b[32m~\\AppData\\Local\\Programs\\Python\\Python312\\Lib\\site-packages\\pandas\\core\\reshape\\merge.py\u001b[39m in \u001b[36m?\u001b[39m\u001b[34m(self)\u001b[39m\n\u001b[32m   1293\u001b[39m                         \u001b[38;5;66;03m# Then we're either Hashable or a wrong-length arraylike,\u001b[39;00m\n\u001b[32m   1294\u001b[39m                         \u001b[38;5;66;03m#  the latter of which will raise\u001b[39;00m\n\u001b[32m   1295\u001b[39m                         rk = cast(Hashable, rk)\n\u001b[32m   1296\u001b[39m                         \u001b[38;5;28;01mif\u001b[39;00m rk \u001b[38;5;28;01mis\u001b[39;00m \u001b[38;5;28;01mnot\u001b[39;00m \u001b[38;5;28;01mNone\u001b[39;00m:\n\u001b[32m-> \u001b[39m\u001b[32m1297\u001b[39m                             right_keys.append(right._get_label_or_level_values(rk))\n\u001b[32m   1298\u001b[39m                         \u001b[38;5;28;01melse\u001b[39;00m:\n\u001b[32m   1299\u001b[39m                             \u001b[38;5;66;03m# work-around for merge_asof(right_index=True)\u001b[39;00m\n\u001b[32m   1300\u001b[39m                             right_keys.append(right.index._values)\n",
      "\u001b[32m~\\AppData\\Local\\Programs\\Python\\Python312\\Lib\\site-packages\\pandas\\core\\generic.py\u001b[39m in \u001b[36m?\u001b[39m\u001b[34m(self, key, axis)\u001b[39m\n\u001b[32m   1907\u001b[39m             values = self.xs(key, axis=other_axes[\u001b[32m0\u001b[39m])._values\n\u001b[32m   1908\u001b[39m         \u001b[38;5;28;01melif\u001b[39;00m self._is_level_reference(key, axis=axis):\n\u001b[32m   1909\u001b[39m             values = self.axes[axis].get_level_values(key)._values\n\u001b[32m   1910\u001b[39m         \u001b[38;5;28;01melse\u001b[39;00m:\n\u001b[32m-> \u001b[39m\u001b[32m1911\u001b[39m             \u001b[38;5;28;01mraise\u001b[39;00m KeyError(key)\n\u001b[32m   1912\u001b[39m \n\u001b[32m   1913\u001b[39m         \u001b[38;5;66;03m# Check for duplicates\u001b[39;00m\n\u001b[32m   1914\u001b[39m         \u001b[38;5;28;01mif\u001b[39;00m values.ndim > \u001b[32m1\u001b[39m:\n",
      "\u001b[31mKeyError\u001b[39m: 'movie_id'"
     ]
    }
   ],
   "source": [
    "# Ensure the item/movie identifier columns match. In our u.data file we called it 'item_id'\n",
    "# and in the movies DataFrame it is 'movie_id'. We join on these columns.\n",
    "\n",
    "# Merge ratings with movies\n",
    "merged_data = pd.merge(ratings, movies, left_on='movieId', right_on='movieId')\n",
    "\n",
    "# Display the merged DataFrame (show a few columns for clarity)\n",
    "print(merged_data[['user_id', 'item_id', 'rating', 'title', 'release_date']].head())"
   ]
  }
 ],
 "metadata": {
  "kernelspec": {
   "display_name": "Python 3 (ipykernel)",
   "language": "python",
   "name": "python3"
  },
  "language_info": {
   "codemirror_mode": {
    "name": "ipython",
    "version": 3
   },
   "file_extension": ".py",
   "mimetype": "text/x-python",
   "name": "python",
   "nbconvert_exporter": "python",
   "pygments_lexer": "ipython3",
   "version": "3.12.6"
  }
 },
 "nbformat": 4,
 "nbformat_minor": 5
}
