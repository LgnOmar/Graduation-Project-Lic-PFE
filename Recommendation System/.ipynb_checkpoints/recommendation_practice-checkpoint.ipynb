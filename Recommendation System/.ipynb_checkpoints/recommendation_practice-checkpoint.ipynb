{
 "cells": [
  {
   "cell_type": "code",
   "execution_count": 16,
   "id": "adbe1b97-7155-4bac-a04e-7e975040ec15",
   "metadata": {},
   "outputs": [
    {
     "name": "stdout",
     "output_type": "stream",
     "text": [
      "   userId  movieId  rating  timestamp\n",
      "0     196      242       3  881250949\n",
      "1     186      302       3  891717742\n",
      "2      22      377       1  878887116\n",
      "3     244       51       2  880606923\n",
      "4     166      346       1  886397596\n"
     ]
    }
   ],
   "source": [
    "import pandas as pd\n",
    "# Assuming the file u.data is located in your current directory or give the full path.\n",
    "ratings = pd.read_csv('ml-100k/u.data', \n",
    "                      sep='\\t',      # u.data is tab-separated\n",
    "                      names=['userId', 'movieId', 'rating', 'timestamp'])\n",
    "\n",
    "# Display the first few rows to confirm successful loading.\n",
    "print(ratings.head())"
   ]
  },
  {
   "cell_type": "code",
   "execution_count": 7,
   "id": "23682d8e-50c6-48b0-bd88-8c49c51f41a3",
   "metadata": {},
   "outputs": [
    {
     "name": "stdout",
     "output_type": "stream",
     "text": [
      "   movieId              title release_date  video_release_date  \\\n",
      "0        1   Toy Story (1995)  01-Jan-1995                 NaN   \n",
      "1        2   GoldenEye (1995)  01-Jan-1995                 NaN   \n",
      "2        3  Four Rooms (1995)  01-Jan-1995                 NaN   \n",
      "3        4  Get Shorty (1995)  01-Jan-1995                 NaN   \n",
      "4        5     Copycat (1995)  01-Jan-1995                 NaN   \n",
      "\n",
      "                                            IMDb_URL  unknown  Action  \\\n",
      "0  http://us.imdb.com/M/title-exact?Toy%20Story%2...        0       0   \n",
      "1  http://us.imdb.com/M/title-exact?GoldenEye%20(...        0       1   \n",
      "2  http://us.imdb.com/M/title-exact?Four%20Rooms%...        0       0   \n",
      "3  http://us.imdb.com/M/title-exact?Get%20Shorty%...        0       1   \n",
      "4  http://us.imdb.com/M/title-exact?Copycat%20(1995)        0       0   \n",
      "\n",
      "   Adventure  Animation  Children's  ...  Fantasy  Film-Noir  Horror  Musical  \\\n",
      "0          0          1           1  ...        0          0       0        0   \n",
      "1          1          0           0  ...        0          0       0        0   \n",
      "2          0          0           0  ...        0          0       0        0   \n",
      "3          0          0           0  ...        0          0       0        0   \n",
      "4          0          0           0  ...        0          0       0        0   \n",
      "\n",
      "   Mystery  Romance  Sci-Fi  Thriller  War  Western  \n",
      "0        0        0       0         0    0        0  \n",
      "1        0        0       0         1    0        0  \n",
      "2        0        0       0         1    0        0  \n",
      "3        0        0       0         0    0        0  \n",
      "4        0        0       0         1    0        0  \n",
      "\n",
      "[5 rows x 24 columns]\n"
     ]
    }
   ],
   "source": [
    "# Depending on the exact structure, you might need to provide column names.\n",
    "# Sample column names can include: movieId, title, release_date, video_release_date, IMDb URL, and then genre flags.\n",
    "import pandas as pd\n",
    "column_names = ['movieId', 'title', 'release_date', 'video_release_date', 'IMDb_URL',\n",
    "                'unknown', 'Action', 'Adventure', 'Animation', \"Children's\", 'Comedy',\n",
    "                'Crime', 'Documentary', 'Drama', 'Fantasy', 'Film-Noir', 'Horror',\n",
    "                'Musical', 'Mystery', 'Romance', 'Sci-Fi', 'Thriller', 'War', 'Western']\n",
    "\n",
    "movies = pd.read_csv('ml-100k/u.item', \n",
    "                     sep='|',  # Pipe-delimited\n",
    "                     names=column_names,\n",
    "                     encoding='latin-1')  # Some files use latin-1 encoding\n",
    "\n",
    "print(movies.head())\n"
   ]
  },
  {
   "cell_type": "code",
   "execution_count": 21,
   "id": "1d75f283-2cfe-4759-b37d-b83c2d8bdb19",
   "metadata": {},
   "outputs": [
    {
     "name": "stdout",
     "output_type": "stream",
     "text": [
      "   userId  movieId  rating                       title release_date\n",
      "0     196      242       3                Kolya (1996)  24-Jan-1997\n",
      "1     186      302       3    L.A. Confidential (1997)  01-Jan-1997\n",
      "2      22      377       1         Heavyweights (1994)  01-Jan-1994\n",
      "3     244       51       2  Legends of the Fall (1994)  01-Jan-1994\n",
      "4     166      346       1         Jackie Brown (1997)  01-Jan-1997\n"
     ]
    }
   ],
   "source": [
    "# Ensure the item/movie identifier columns match. In our u.data file we called it 'item_id'\n",
    "# and in the movies DataFrame it is 'movie_id'. We join on these columns.\n",
    "\n",
    "# Merge ratings with movies\n",
    "merged_data = pd.merge(ratings, movies, left_on='movieId', right_on='movieId')\n",
    "\n",
    "# Display the merged DataFrame (show a few columns for clarity)\n",
    "print(merged_data[['userId', 'movieId', 'rating', 'title', 'release_date']].head())"
   ]
  },
  {
   "cell_type": "code",
   "execution_count": 23,
   "id": "230a0f65-9350-4a5c-8aaf-f504082118a2",
   "metadata": {},
   "outputs": [
    {
     "data": {
      "image/png": "[encoded data removed]",
      "text/plain": [
       "<Figure size 640x480 with 1 Axes>"
      ]
     },
     "metadata": {},
     "output_type": "display_data"
    }
   ],
   "source": [
    "#Rating Distribution\n",
    "import matplotlib.pyplot as plt\n",
    "\n",
    "# Histogram of ratings\n",
    "merged_data['rating'].hist(bins=5, edgecolor='black')\n",
    "plt.xlabel('Rating')\n",
    "plt.ylabel('Frequency')\n",
    "plt.title('Rating Distribution')\n",
    "plt.show()"
   ]
  },
  {
   "cell_type": "code",
   "execution_count": 24,
   "id": "27635fc1-b4d1-42a8-a219-7cf962c65443",
   "metadata": {},
   "outputs": [
    {
     "name": "stdout",
     "output_type": "stream",
     "text": [
      "                                                        mean  count\n",
      "title                                                              \n",
      "Close Shave, A (1995)                               4.491071    112\n",
      "Schindler's List (1993)                             4.466443    298\n",
      "Wrong Trousers, The (1993)                          4.466102    118\n",
      "Casablanca (1942)                                   4.456790    243\n",
      "Wallace & Gromit: The Best of Aardman Animation...  4.447761     67\n",
      "Shawshank Redemption, The (1994)                    4.445230    283\n",
      "Rear Window (1954)                                  4.387560    209\n",
      "Usual Suspects, The (1995)                          4.385768    267\n",
      "Star Wars (1977)                                    4.358491    583\n",
      "12 Angry Men (1957)                                 4.344000    125\n"
     ]
    }
   ],
   "source": [
    "# Group by movie title and compute average rating and count of ratings\n",
    "movie_stats = merged_data.groupby('title')['rating'].agg(['mean', 'count'])\n",
    "# Filter for movies with a minimum number of ratings, e.g., more than 20 ratings for reliability\n",
    "popular_movies = movie_stats[movie_stats['count'] >= 20]\n",
    "top_rated = popular_movies.sort_values(by='mean', ascending=False)\n",
    "print(top_rated.head(10))"
   ]
  },
  {
   "cell_type": "code",
   "execution_count": 27,
   "id": "e4018cb8-f644-47e8-9427-a4b61804107d",
   "metadata": {
    "scrolled": true
   },
   "outputs": [
    {
     "ename": "NameError",
     "evalue": "name 'item_columns' is not defined",
     "output_type": "error",
     "traceback": [
      "\u001b[31m---------------------------------------------------------------------------\u001b[39m",
      "\u001b[31mNameError\u001b[39m                                 Traceback (most recent call last)",
      "\u001b[36mCell\u001b[39m\u001b[36m \u001b[39m\u001b[32mIn[27]\u001b[39m\u001b[32m, line 2\u001b[39m\n\u001b[32m      1\u001b[39m \u001b[38;5;66;03m# List of genre columns from the u.item file (as defined in item_columns)\u001b[39;00m\n\u001b[32m----> \u001b[39m\u001b[32m2\u001b[39m genre_columns = \u001b[43mitem_columns\u001b[49m[\u001b[32m5\u001b[39m:]  \u001b[38;5;66;03m# skipping the first 5 columns\u001b[39;00m\n\u001b[32m      4\u001b[39m \u001b[38;5;66;03m# Sum each genre column to get total count of movies in each genre\u001b[39;00m\n\u001b[32m      5\u001b[39m genre_counts = movies[genre_columns].sum().sort_values(ascending=\u001b[38;5;28;01mFalse\u001b[39;00m)\n",
      "\u001b[31mNameError\u001b[39m: name 'item_columns' is not defined"
     ]
    }
   ],
   "source": [
    "# List of genre columns from the u.item file (as defined in item_columns)\n",
    "genre_columns = column_names[5:]  # skipping the first 5 columns\n",
    "\n",
    "# Sum each genre column to get total count of movies in each genre\n",
    "genre_counts = movies[genre_columns].sum().sort_values(ascending=False)\n",
    "print(genre_counts)\n",
    "\n",
    "# Plot the genre distribution\n",
    "genre_counts.plot(kind='bar', figsize=(10,5), color='skyblue')\n",
    "plt.xlabel('Genre')\n",
    "plt.ylabel('Number of Movies')\n",
    "plt.title('Movie Genre Distribution')\n",
    "plt.show()\n"
   ]
  },
  {
   "cell_type": "code",
   "execution_count": null,
   "id": "ddf1b557-284b-4be6-9597-90146254dc7c",
   "metadata": {},
   "outputs": [],
   "source": []
  }
 ],
 "metadata": {
  "kernelspec": {
   "display_name": "Python 3 (ipykernel)",
   "language": "python",
   "name": "python3"
  },
  "language_info": {
   "codemirror_mode": {
    "name": "ipython",
    "version": 3
   },
   "file_extension": ".py",
   "mimetype": "text/x-python",
   "name": "python",
   "nbconvert_exporter": "python",
   "pygments_lexer": "ipython3",
   "version": "3.12.6"
  }
 },
 "nbformat": 4,
 "nbformat_minor": 5
}
