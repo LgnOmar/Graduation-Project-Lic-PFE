{
 "cells": [
  {
   "cell_type": "markdown",
   "id": "850c35c0-19bc-4b78-a02a-7dc9cd2fec3a",
   "metadata": {
    "jp-MarkdownHeadingCollapsed": true
   },
   "source": [
    "1. Install and Import Dependecies\n",
    "   "
   ]
  },
  {
   "cell_type": "code",
   "execution_count": 9,
   "id": "ba798e72-de1d-4f27-af61-dfdba3bce8fa",
   "metadata": {
    "scrolled": true
   },
   "outputs": [
    {
     "name": "stdout",
     "output_type": "stream",
     "text": [
      "^C\n",
      "Looking in indexes: https://download.pytorch.org/whl/cu118\n",
      "Requirement already satisfied: torch in c:\\users\\hp\\appdata\\local\\programs\\python\\python312\\lib\\site-packages (2.6.0)\n",
      "Requirement already satisfied: torchvision in c:\\users\\hp\\appdata\\local\\programs\\python\\python312\\lib\\site-packages (0.21.0)\n",
      "Collecting torchaudio\n",
      "  Using cached https://download.pytorch.org/whl/cu118/torchaudio-2.6.0%2Bcu118-cp312-cp312-win_amd64.whl.metadata (6.8 kB)\n",
      "Requirement already satisfied: filelock in c:\\users\\hp\\appdata\\local\\programs\\python\\python312\\lib\\site-packages (from torch) (3.17.0)\n",
      "Requirement already satisfied: typing-extensions>=4.10.0 in c:\\users\\hp\\appdata\\local\\programs\\python\\python312\\lib\\site-packages (from torch) (4.12.2)\n",
      "Requirement already satisfied: networkx in c:\\users\\hp\\appdata\\local\\programs\\python\\python312\\lib\\site-packages (from torch) (3.4.2)\n",
      "Requirement already satisfied: jinja2 in c:\\users\\hp\\appdata\\local\\programs\\python\\python312\\lib\\site-packages (from torch) (3.1.4)\n",
      "Requirement already satisfied: fsspec in c:\\users\\hp\\appdata\\local\\programs\\python\\python312\\lib\\site-packages (from torch) (2025.2.0)\n",
      "Requirement already satisfied: setuptools in c:\\users\\hp\\appdata\\local\\programs\\python\\python312\\lib\\site-packages (from torch) (75.8.0)\n",
      "Requirement already satisfied: sympy==1.13.1 in c:\\users\\hp\\appdata\\local\\programs\\python\\python312\\lib\\site-packages (from torch) (1.13.1)\n",
      "Requirement already satisfied: mpmath<1.4,>=1.1.0 in c:\\users\\hp\\appdata\\local\\programs\\python\\python312\\lib\\site-packages (from sympy==1.13.1->torch) (1.3.0)\n",
      "Requirement already satisfied: numpy in c:\\users\\hp\\appdata\\local\\programs\\python\\python312\\lib\\site-packages (from torchvision) (1.26.4)\n",
      "Requirement already satisfied: pillow!=8.3.*,>=5.3.0 in c:\\users\\hp\\appdata\\local\\programs\\python\\python312\\lib\\site-packages (from torchvision) (11.1.0)\n",
      "Collecting torch\n",
      "  Using cached https://download.pytorch.org/whl/cu118/torch-2.6.0%2Bcu118-cp312-cp312-win_amd64.whl.metadata (28 kB)\n",
      "Requirement already satisfied: MarkupSafe>=2.0 in c:\\users\\hp\\appdata\\local\\programs\\python\\python312\\lib\\site-packages (from jinja2->torch) (2.1.5)\n",
      "Using cached https://download.pytorch.org/whl/cu118/torchaudio-2.6.0%2Bcu118-cp312-cp312-win_amd64.whl (4.0 MB)\n",
      "Downloading https://download.pytorch.org/whl/cu118/torch-2.6.0%2Bcu118-cp312-cp312-win_amd64.whl (2728.9 MB)\n",
      "   ---------------------------------------- 0.0/2.7 GB ? eta -:--:--\n",
      "   ---------------------------------------- 0.0/2.7 GB ? eta -:--:--\n",
      "   ---------------------------------------- 0.0/2.7 GB ? eta -:--:--\n",
      "   ---------------------------------------- 0.0/2.7 GB ? eta -:--:--\n",
      "   ---------------------------------------- 0.0/2.7 GB ? eta -:--:--\n",
      "   ---------------------------------------- 0.0/2.7 GB ? eta -:--:--\n",
      "   ---------------------------------------- 0.0/2.7 GB ? eta -:--:--\n",
      "   ---------------------------------------- 0.0/2.7 GB ? eta -:--:--\n",
      "   ---------------------------------------- 0.0/2.7 GB ? eta -:--:--\n",
      "   ---------------------------------------- 0.0/2.7 GB ? eta -:--:--\n",
      "   ---------------------------------------- 0.0/2.7 GB 299.6 kB/s eta 2:31:47\n",
      "   ---------------------------------------- 0.0/2.7 GB 299.6 kB/s eta 2:31:47\n",
      "   ---------------------------------------- 0.0/2.7 GB 299.6 kB/s eta 2:31:47\n",
      "   ---------------------------------------- 0.0/2.7 GB 299.6 kB/s eta 2:31:47\n",
      "   ---------------------------------------- 0.0/2.7 GB 299.6 kB/s eta 2:31:47\n",
      "   ---------------------------------------- 0.0/2.7 GB 274.9 kB/s eta 2:45:23\n",
      "   ---------------------------------------- 0.0/2.7 GB 274.9 kB/s eta 2:45:23\n",
      "   ---------------------------------------- 0.0/2.7 GB 274.9 kB/s eta 2:45:23\n",
      "   ---------------------------------------- 0.0/2.7 GB 274.9 kB/s eta 2:45:23\n",
      "   ---------------------------------------- 0.0/2.7 GB 274.9 kB/s eta 2:45:23\n",
      "   ---------------------------------------- 0.0/2.7 GB 259.4 kB/s eta 2:55:17\n",
      "   ---------------------------------------- 0.0/2.7 GB 259.4 kB/s eta 2:55:17\n",
      "   ---------------------------------------- 0.0/2.7 GB 259.4 kB/s eta 2:55:17\n",
      "   ---------------------------------------- 0.0/2.7 GB 259.4 kB/s eta 2:55:17\n",
      "   ---------------------------------------- 0.0/2.7 GB 259.4 kB/s eta 2:55:17\n",
      "   ---------------------------------------- 0.0/2.7 GB 259.4 kB/s eta 2:55:17\n",
      "   ---------------------------------------- 0.0/2.7 GB 259.4 kB/s eta 2:55:17\n",
      "   ---------------------------------------- 0.0/2.7 GB 238.8 kB/s eta 3:10:22\n",
      "   ---------------------------------------- 0.0/2.7 GB 238.8 kB/s eta 3:10:22\n",
      "   ---------------------------------------- 0.0/2.7 GB 238.8 kB/s eta 3:10:22\n",
      "   ---------------------------------------- 0.0/2.7 GB 238.8 kB/s eta 3:10:22\n",
      "   ---------------------------------------- 0.0/2.7 GB 238.8 kB/s eta 3:10:22\n",
      "   ---------------------------------------- 0.0/2.7 GB 241.0 kB/s eta 3:08:36\n",
      "   ---------------------------------------- 0.0/2.7 GB 241.0 kB/s eta 3:08:36\n",
      "   ---------------------------------------- 0.0/2.7 GB 241.0 kB/s eta 3:08:36\n",
      "   ---------------------------------------- 0.0/2.7 GB 241.0 kB/s eta 3:08:36\n",
      "   ---------------------------------------- 0.0/2.7 GB 241.0 kB/s eta 3:08:36\n",
      "   ---------------------------------------- 0.0/2.7 GB 238.5 kB/s eta 3:10:33\n",
      "   ---------------------------------------- 0.0/2.7 GB 238.5 kB/s eta 3:10:33\n",
      "   ---------------------------------------- 0.0/2.7 GB 238.5 kB/s eta 3:10:33\n",
      "   ---------------------------------------- 0.0/2.7 GB 238.5 kB/s eta 3:10:33\n",
      "   ---------------------------------------- 0.0/2.7 GB 238.5 kB/s eta 3:10:33\n",
      "   ---------------------------------------- 0.0/2.7 GB 238.5 kB/s eta 3:10:33\n",
      "   ---------------------------------------- 0.0/2.7 GB 233.5 kB/s eta 3:14:40\n",
      "   ---------------------------------------- 0.0/2.7 GB 233.5 kB/s eta 3:14:40\n",
      "   ---------------------------------------- 0.0/2.7 GB 233.5 kB/s eta 3:14:40\n",
      "   ---------------------------------------- 0.0/2.7 GB 233.5 kB/s eta 3:14:40\n",
      "   ---------------------------------------- 0.0/2.7 GB 242.7 kB/s eta 3:07:15\n",
      "   ---------------------------------------- 0.0/2.7 GB 242.7 kB/s eta 3:07:15\n",
      "   ---------------------------------------- 0.0/2.7 GB 242.7 kB/s eta 3:07:15\n",
      "   ---------------------------------------- 0.0/2.7 GB 242.7 kB/s eta 3:07:15\n",
      "   ---------------------------------------- 0.0/2.7 GB 242.7 kB/s eta 3:07:15\n",
      "   ---------------------------------------- 0.0/2.7 GB 243.9 kB/s eta 3:06:17\n",
      "   ---------------------------------------- 0.0/2.7 GB 243.9 kB/s eta 3:06:17\n",
      "   ---------------------------------------- 0.0/2.7 GB 243.9 kB/s eta 3:06:17\n",
      "   ---------------------------------------- 0.0/2.7 GB 243.9 kB/s eta 3:06:17\n",
      "   ---------------------------------------- 0.0/2.7 GB 250.0 kB/s eta 3:01:44\n",
      "   ---------------------------------------- 0.0/2.7 GB 250.0 kB/s eta 3:01:44\n",
      "   ---------------------------------------- 0.0/2.7 GB 250.0 kB/s eta 3:01:44\n",
      "   ---------------------------------------- 0.0/2.7 GB 257.7 kB/s eta 2:56:16\n",
      "   ---------------------------------------- 0.0/2.7 GB 257.7 kB/s eta 2:56:16\n",
      "   ---------------------------------------- 0.0/2.7 GB 257.7 kB/s eta 2:56:16\n",
      "   ---------------------------------------- 0.0/2.7 GB 265.6 kB/s eta 2:51:02\n",
      "   ---------------------------------------- 0.0/2.7 GB 265.6 kB/s eta 2:51:02\n",
      "   ---------------------------------------- 0.0/2.7 GB 265.6 kB/s eta 2:51:02\n",
      "   ---------------------------------------- 0.0/2.7 GB 265.6 kB/s eta 2:51:02\n",
      "   ---------------------------------------- 0.0/2.7 GB 269.9 kB/s eta 2:48:16\n",
      "   ---------------------------------------- 0.0/2.7 GB 269.9 kB/s eta 2:48:16\n",
      "   ---------------------------------------- 0.0/2.7 GB 269.9 kB/s eta 2:48:16\n",
      "   ---------------------------------------- 0.0/2.7 GB 278.3 kB/s eta 2:43:12\n",
      "   ---------------------------------------- 0.0/2.7 GB 278.3 kB/s eta 2:43:12\n",
      "   ---------------------------------------- 0.0/2.7 GB 286.9 kB/s eta 2:38:16\n",
      "   ---------------------------------------- 0.0/2.7 GB 286.9 kB/s eta 2:38:16\n",
      "   ---------------------------------------- 0.0/2.7 GB 286.9 kB/s eta 2:38:16\n",
      "   ---------------------------------------- 0.0/2.7 GB 291.8 kB/s eta 2:35:38\n",
      "   ---------------------------------------- 0.0/2.7 GB 291.8 kB/s eta 2:35:38\n",
      "   ---------------------------------------- 0.0/2.7 GB 291.8 kB/s eta 2:35:38\n",
      "   ---------------------------------------- 0.0/2.7 GB 291.8 kB/s eta 2:35:38\n",
      "   ---------------------------------------- 0.0/2.7 GB 293.4 kB/s eta 2:34:45\n",
      "   ---------------------------------------- 0.0/2.7 GB 293.4 kB/s eta 2:34:45\n",
      "   ---------------------------------------- 0.0/2.7 GB 293.4 kB/s eta 2:34:45\n",
      "   ---------------------------------------- 0.0/2.7 GB 300.2 kB/s eta 2:31:15\n",
      "   ---------------------------------------- 0.0/2.7 GB 300.2 kB/s eta 2:31:15\n",
      "   ---------------------------------------- 0.0/2.7 GB 305.3 kB/s eta 2:28:41\n",
      "   ---------------------------------------- 0.0/2.7 GB 305.3 kB/s eta 2:28:41\n",
      "   ---------------------------------------- 0.0/2.7 GB 305.3 kB/s eta 2:28:41\n",
      "   ---------------------------------------- 0.0/2.7 GB 305.3 kB/s eta 2:28:41\n",
      "   ---------------------------------------- 0.0/2.7 GB 306.2 kB/s eta 2:28:16\n",
      "   ---------------------------------------- 0.0/2.7 GB 306.2 kB/s eta 2:28:16\n",
      "   ---------------------------------------- 0.0/2.7 GB 314.0 kB/s eta 2:24:33\n",
      "   ---------------------------------------- 0.0/2.7 GB 314.0 kB/s eta 2:24:33\n",
      "   ---------------------------------------- 0.0/2.7 GB 314.0 kB/s eta 2:24:33\n",
      "   ---------------------------------------- 0.0/2.7 GB 319.0 kB/s eta 2:22:16\n",
      "   ---------------------------------------- 0.0/2.7 GB 319.0 kB/s eta 2:22:16\n",
      "   ---------------------------------------- 0.0/2.7 GB 319.0 kB/s eta 2:22:16\n",
      "   ---------------------------------------- 0.0/2.7 GB 322.1 kB/s eta 2:20:53\n",
      "   ---------------------------------------- 0.0/2.7 GB 322.1 kB/s eta 2:20:53\n",
      "   ---------------------------------------- 0.0/2.7 GB 326.6 kB/s eta 2:18:57\n",
      "   ---------------------------------------- 0.0/2.7 GB 326.6 kB/s eta 2:18:57\n",
      "   ---------------------------------------- 0.0/2.7 GB 326.6 kB/s eta 2:18:57\n",
      "   ---------------------------------------- 0.0/2.7 GB 330.5 kB/s eta 2:17:16\n",
      "   ---------------------------------------- 0.0/2.7 GB 330.5 kB/s eta 2:17:16\n",
      "   ---------------------------------------- 0.0/2.7 GB 330.5 kB/s eta 2:17:16\n",
      "   ---------------------------------------- 0.0/2.7 GB 334.5 kB/s eta 2:15:37\n",
      "   ---------------------------------------- 0.0/2.7 GB 334.5 kB/s eta 2:15:37\n",
      "   ---------------------------------------- 0.0/2.7 GB 334.5 kB/s eta 2:15:37\n",
      "   ---------------------------------------- 0.0/2.7 GB 334.5 kB/s eta 2:15:36\n",
      "   ---------------------------------------- 0.0/2.7 GB 334.5 kB/s eta 2:15:36\n",
      "   ---------------------------------------- 0.0/2.7 GB 339.4 kB/s eta 2:13:38\n",
      "   ---------------------------------------- 0.0/2.7 GB 339.4 kB/s eta 2:13:38\n",
      "   ---------------------------------------- 0.0/2.7 GB 339.4 kB/s eta 2:13:38\n",
      "   ---------------------------------------- 0.0/2.7 GB 343.1 kB/s eta 2:12:11\n",
      "   ---------------------------------------- 0.0/2.7 GB 343.1 kB/s eta 2:12:11\n",
      "   ---------------------------------------- 0.0/2.7 GB 343.1 kB/s eta 2:12:11\n",
      "   ---------------------------------------- 0.0/2.7 GB 346.2 kB/s eta 2:11:00\n",
      "   ---------------------------------------- 0.0/2.7 GB 346.2 kB/s eta 2:11:00\n",
      "   ---------------------------------------- 0.0/2.7 GB 346.2 kB/s eta 2:11:00\n",
      "   ---------------------------------------- 0.0/2.7 GB 346.2 kB/s eta 2:11:00\n",
      "   ---------------------------------------- 0.0/2.7 GB 346.2 kB/s eta 2:11:00\n",
      "   ---------------------------------------- 0.0/2.7 GB 346.2 kB/s eta 2:11:00\n",
      "   ---------------------------------------- 0.0/2.7 GB 346.2 kB/s eta 2:11:00\n",
      "   ---------------------------------------- 0.0/2.7 GB 346.2 kB/s eta 2:11:00\n",
      "   ---------------------------------------- 0.0/2.7 GB 346.2 kB/s eta 2:11:00\n",
      "   ---------------------------------------- 0.0/2.7 GB 346.2 kB/s eta 2:11:00\n",
      "   ---------------------------------------- 0.0/2.7 GB 346.2 kB/s eta 2:11:00\n",
      "   ---------------------------------------- 0.0/2.7 GB 346.2 kB/s eta 2:11:00\n",
      "   ---------------------------------------- 0.0/2.7 GB 346.2 kB/s eta 2:11:00\n",
      "   ---------------------------------------- 0.0/2.7 GB 346.2 kB/s eta 2:11:00\n",
      "   ---------------------------------------- 0.0/2.7 GB 346.2 kB/s eta 2:11:00\n",
      "   ---------------------------------------- 0.0/2.7 GB 346.2 kB/s eta 2:11:00\n",
      "   ---------------------------------------- 0.0/2.7 GB 346.2 kB/s eta 2:11:00\n",
      "   ---------------------------------------- 0.0/2.7 GB 346.2 kB/s eta 2:11:00\n",
      "   ---------------------------------------- 0.0/2.7 GB 346.2 kB/s eta 2:11:00\n",
      "   ---------------------------------------- 0.0/2.7 GB 346.2 kB/s eta 2:11:00\n",
      "   ---------------------------------------- 0.0/2.7 GB 346.2 kB/s eta 2:11:00\n",
      "   ---------------------------------------- 0.0/2.7 GB 346.2 kB/s eta 2:11:00\n",
      "   ---------------------------------------- 0.0/2.7 GB 346.2 kB/s eta 2:11:00\n",
      "   ---------------------------------------- 0.0/2.7 GB 346.2 kB/s eta 2:11:00\n",
      "   ---------------------------------------- 0.0/2.7 GB 346.2 kB/s eta 2:11:00\n",
      "   ---------------------------------------- 0.0/2.7 GB 346.2 kB/s eta 2:11:00\n",
      "   ---------------------------------------- 0.0/2.7 GB 346.2 kB/s eta 2:11:00\n",
      "   ---------------------------------------- 0.0/2.7 GB 346.2 kB/s eta 2:11:00\n",
      "   ---------------------------------------- 0.0/2.7 GB 346.2 kB/s eta 2:11:00\n",
      "   ---------------------------------------- 0.0/2.7 GB 346.2 kB/s eta 2:11:00\n",
      "   ---------------------------------------- 0.0/2.7 GB 346.2 kB/s eta 2:11:00\n",
      "   ---------------------------------------- 0.0/2.7 GB 346.2 kB/s eta 2:11:00\n",
      "   ---------------------------------------- 0.0/2.7 GB 346.2 kB/s eta 2:11:00\n",
      "   ---------------------------------------- 0.0/2.7 GB 346.2 kB/s eta 2:11:00\n",
      "   ---------------------------------------- 0.0/2.7 GB 346.2 kB/s eta 2:11:00\n",
      "   ---------------------------------------- 0.0/2.7 GB 346.2 kB/s eta 2:11:00\n",
      "   ---------------------------------------- 0.0/2.7 GB 346.2 kB/s eta 2:11:00\n",
      "   ---------------------------------------- 0.0/2.7 GB 346.2 kB/s eta 2:11:00\n",
      "   ---------------------------------------- 0.0/2.7 GB 346.2 kB/s eta 2:11:00\n",
      "   ---------------------------------------- 0.0/2.7 GB 346.2 kB/s eta 2:11:00\n",
      "   ---------------------------------------- 0.0/2.7 GB 346.2 kB/s eta 2:11:00\n",
      "   ---------------------------------------- 0.0/2.7 GB 346.2 kB/s eta 2:11:00\n",
      "   ---------------------------------------- 0.0/2.7 GB 346.2 kB/s eta 2:11:00\n",
      "   ---------------------------------------- 0.0/2.7 GB 346.2 kB/s eta 2:11:00\n",
      "   ---------------------------------------- 0.0/2.7 GB 346.2 kB/s eta 2:11:00\n",
      "   ---------------------------------------- 0.0/2.7 GB 346.2 kB/s eta 2:11:00\n",
      "   ---------------------------------------- 0.0/2.7 GB 346.2 kB/s eta 2:11:00\n",
      "   ---------------------------------------- 0.0/2.7 GB 346.2 kB/s eta 2:11:00\n",
      "   ---------------------------------------- 0.0/2.7 GB 346.2 kB/s eta 2:11:00\n",
      "   ---------------------------------------- 0.0/2.7 GB 346.2 kB/s eta 2:11:00\n",
      "   ---------------------------------------- 0.0/2.7 GB 346.2 kB/s eta 2:11:00\n",
      "   ---------------------------------------- 0.0/2.7 GB 346.2 kB/s eta 2:11:00\n",
      "   ---------------------------------------- 0.0/2.7 GB 346.2 kB/s eta 2:11:00\n",
      "   ---------------------------------------- 0.0/2.7 GB 346.2 kB/s eta 2:11:00\n",
      "   ---------------------------------------- 0.0/2.7 GB 346.2 kB/s eta 2:11:00\n",
      "   ---------------------------------------- 0.0/2.7 GB 346.2 kB/s eta 2:11:00\n",
      "   ---------------------------------------- 0.0/2.7 GB 346.2 kB/s eta 2:11:00\n",
      "   ---------------------------------------- 0.0/2.7 GB 346.2 kB/s eta 2:11:00\n",
      "   ---------------------------------------- 0.0/2.7 GB 346.2 kB/s eta 2:11:00\n",
      "   ---------------------------------------- 0.0/2.7 GB 346.2 kB/s eta 2:11:00\n",
      "   ---------------------------------------- 0.0/2.7 GB 346.2 kB/s eta 2:11:00\n",
      "   ---------------------------------------- 0.0/2.7 GB 346.2 kB/s eta 2:11:00\n",
      "   ---------------------------------------- 0.0/2.7 GB 346.2 kB/s eta 2:11:00\n",
      "   ---------------------------------------- 0.0/2.7 GB 346.2 kB/s eta 2:11:00\n",
      "   ---------------------------------------- 0.0/2.7 GB 346.2 kB/s eta 2:11:00\n",
      "   ---------------------------------------- 0.0/2.7 GB 346.2 kB/s eta 2:11:00\n",
      "   ---------------------------------------- 0.0/2.7 GB 346.2 kB/s eta 2:11:00\n",
      "   ---------------------------------------- 0.0/2.7 GB 346.2 kB/s eta 2:11:00\n",
      "   ---------------------------------------- 0.0/2.7 GB 346.2 kB/s eta 2:11:00\n",
      "   ---------------------------------------- 0.0/2.7 GB 346.2 kB/s eta 2:11:00\n",
      "   ---------------------------------------- 0.0/2.7 GB 346.2 kB/s eta 2:11:00\n",
      "   ---------------------------------------- 0.0/2.7 GB 346.2 kB/s eta 2:11:00\n",
      "   ---------------------------------------- 0.0/2.7 GB 346.2 kB/s eta 2:11:00\n",
      "   ---------------------------------------- 0.0/2.7 GB 346.2 kB/s eta 2:11:00\n",
      "   ---------------------------------------- 0.0/2.7 GB 346.2 kB/s eta 2:11:00\n",
      "   ---------------------------------------- 0.0/2.7 GB 346.2 kB/s eta 2:11:00\n"
     ]
    },
    {
     "name": "stderr",
     "output_type": "stream",
     "text": [
      "ERROR: Exception:\n",
      "Traceback (most recent call last):\n",
      "  File \"C:\\Users\\hp\\AppData\\Local\\Programs\\Python\\Python312\\Lib\\site-packages\\pip\\_vendor\\urllib3\\response.py\", line 438, in _error_catcher\n",
      "    yield\n",
      "  File \"C:\\Users\\hp\\AppData\\Local\\Programs\\Python\\Python312\\Lib\\site-packages\\pip\\_vendor\\urllib3\\response.py\", line 561, in read\n",
      "    data = self._fp_read(amt) if not fp_closed else b\"\"\n",
      "           ^^^^^^^^^^^^^^^^^^\n",
      "  File \"C:\\Users\\hp\\AppData\\Local\\Programs\\Python\\Python312\\Lib\\site-packages\\pip\\_vendor\\urllib3\\response.py\", line 527, in _fp_read\n",
      "    return self._fp.read(amt) if amt is not None else self._fp.read()\n",
      "           ^^^^^^^^^^^^^^^^^^\n",
      "  File \"C:\\Users\\hp\\AppData\\Local\\Programs\\Python\\Python312\\Lib\\site-packages\\pip\\_vendor\\cachecontrol\\filewrapper.py\", line 98, in read\n",
      "    data: bytes = self.__fp.read(amt)\n",
      "                  ^^^^^^^^^^^^^^^^^^^\n",
      "  File \"C:\\Users\\hp\\AppData\\Local\\Programs\\Python\\Python312\\Lib\\http\\client.py\", line 479, in read\n",
      "    s = self.fp.read(amt)\n",
      "        ^^^^^^^^^^^^^^^^^\n",
      "  File \"C:\\Users\\hp\\AppData\\Local\\Programs\\Python\\Python312\\Lib\\socket.py\", line 720, in readinto\n",
      "    return self._sock.recv_into(b)\n",
      "           ^^^^^^^^^^^^^^^^^^^^^^^\n",
      "  File \"C:\\Users\\hp\\AppData\\Local\\Programs\\Python\\Python312\\Lib\\ssl.py\", line 1251, in recv_into\n",
      "    return self.read(nbytes, buffer)\n",
      "           ^^^^^^^^^^^^^^^^^^^^^^^^^\n",
      "  File \"C:\\Users\\hp\\AppData\\Local\\Programs\\Python\\Python312\\Lib\\ssl.py\", line 1103, in read\n",
      "    return self._sslobj.read(len, buffer)\n",
      "           ^^^^^^^^^^^^^^^^^^^^^^^^^^^^^^\n",
      "TimeoutError: The read operation timed out\n",
      "\n",
      "During handling of the above exception, another exception occurred:\n",
      "\n",
      "Traceback (most recent call last):\n",
      "  File \"C:\\Users\\hp\\AppData\\Local\\Programs\\Python\\Python312\\Lib\\site-packages\\pip\\_internal\\cli\\base_command.py\", line 106, in _run_wrapper\n",
      "    status = _inner_run()\n",
      "             ^^^^^^^^^^^^\n",
      "  File \"C:\\Users\\hp\\AppData\\Local\\Programs\\Python\\Python312\\Lib\\site-packages\\pip\\_internal\\cli\\base_command.py\", line 97, in _inner_run\n",
      "    return self.run(options, args)\n",
      "           ^^^^^^^^^^^^^^^^^^^^^^^\n",
      "  File \"C:\\Users\\hp\\AppData\\Local\\Programs\\Python\\Python312\\Lib\\site-packages\\pip\\_internal\\cli\\req_command.py\", line 67, in wrapper\n",
      "    return func(self, options, args)\n",
      "           ^^^^^^^^^^^^^^^^^^^^^^^^^\n",
      "  File \"C:\\Users\\hp\\AppData\\Local\\Programs\\Python\\Python312\\Lib\\site-packages\\pip\\_internal\\commands\\install.py\", line 386, in run\n",
      "    requirement_set = resolver.resolve(\n",
      "                      ^^^^^^^^^^^^^^^^^\n",
      "  File \"C:\\Users\\hp\\AppData\\Local\\Programs\\Python\\Python312\\Lib\\site-packages\\pip\\_internal\\resolution\\resolvelib\\resolver.py\", line 179, in resolve\n",
      "    self.factory.preparer.prepare_linked_requirements_more(reqs)\n",
      "  File \"C:\\Users\\hp\\AppData\\Local\\Programs\\Python\\Python312\\Lib\\site-packages\\pip\\_internal\\operations\\prepare.py\", line 554, in prepare_linked_requirements_more\n",
      "    self._complete_partial_requirements(\n",
      "  File \"C:\\Users\\hp\\AppData\\Local\\Programs\\Python\\Python312\\Lib\\site-packages\\pip\\_internal\\operations\\prepare.py\", line 469, in _complete_partial_requirements\n",
      "    for link, (filepath, _) in batch_download:\n",
      "                               ^^^^^^^^^^^^^^\n",
      "  File \"C:\\Users\\hp\\AppData\\Local\\Programs\\Python\\Python312\\Lib\\site-packages\\pip\\_internal\\network\\download.py\", line 184, in __call__\n",
      "    for chunk in chunks:\n",
      "                 ^^^^^^\n",
      "  File \"C:\\Users\\hp\\AppData\\Local\\Programs\\Python\\Python312\\Lib\\site-packages\\pip\\_internal\\cli\\progress_bars.py\", line 55, in _rich_progress_bar\n",
      "    for chunk in iterable:\n",
      "                 ^^^^^^^^\n",
      "  File \"C:\\Users\\hp\\AppData\\Local\\Programs\\Python\\Python312\\Lib\\site-packages\\pip\\_internal\\network\\utils.py\", line 65, in response_chunks\n",
      "    for chunk in response.raw.stream(\n",
      "                 ^^^^^^^^^^^^^^^^^^^^\n",
      "  File \"C:\\Users\\hp\\AppData\\Local\\Programs\\Python\\Python312\\Lib\\site-packages\\pip\\_vendor\\urllib3\\response.py\", line 622, in stream\n",
      "    data = self.read(amt=amt, decode_content=decode_content)\n",
      "           ^^^^^^^^^^^^^^^^^^^^^^^^^^^^^^^^^^^^^^^^^^^^^^^^^\n",
      "  File \"C:\\Users\\hp\\AppData\\Local\\Programs\\Python\\Python312\\Lib\\site-packages\\pip\\_vendor\\urllib3\\response.py\", line 560, in read\n",
      "    with self._error_catcher():\n",
      "         ^^^^^^^^^^^^^^^^^^^^^\n",
      "  File \"C:\\Users\\hp\\AppData\\Local\\Programs\\Python\\Python312\\Lib\\contextlib.py\", line 158, in __exit__\n",
      "    self.gen.throw(value)\n",
      "  File \"C:\\Users\\hp\\AppData\\Local\\Programs\\Python\\Python312\\Lib\\site-packages\\pip\\_vendor\\urllib3\\response.py\", line 443, in _error_catcher\n",
      "    raise ReadTimeoutError(self._pool, None, \"Read timed out.\")\n",
      "pip._vendor.urllib3.exceptions.ReadTimeoutError: HTTPSConnectionPool(host='download.pytorch.org', port=443): Read timed out.\n"
     ]
    }
   ],
   "source": [
    "!pip install torch torchvision torchaudio --index-url https://download.pytorch.org/whl/cu118"
   ]
  },
  {
   "cell_type": "code",
   "execution_count": 8,
   "id": "4e614a07-61e0-4fac-8efc-27a9290dc8d2",
   "metadata": {
    "scrolled": true
   },
   "outputs": [
    {
     "name": "stdout",
     "output_type": "stream",
     "text": [
      "Requirement already satisfied: transformers in c:\\users\\hp\\appdata\\local\\programs\\python\\python312\\lib\\site-packages (4.51.1)\n",
      "Requirement already satisfied: requests in c:\\users\\hp\\appdata\\local\\programs\\python\\python312\\lib\\site-packages (2.32.3)\n",
      "Requirement already satisfied: pandas in c:\\users\\hp\\appdata\\local\\programs\\python\\python312\\lib\\site-packages (2.2.3)\n",
      "Requirement already satisfied: beautifulsoup4 in c:\\users\\hp\\appdata\\local\\programs\\python\\python312\\lib\\site-packages (4.12.3)\n",
      "Requirement already satisfied: numpy in c:\\users\\hp\\appdata\\local\\programs\\python\\python312\\lib\\site-packages (1.26.4)\n",
      "Requirement already satisfied: filelock in c:\\users\\hp\\appdata\\local\\programs\\python\\python312\\lib\\site-packages (from transformers) (3.17.0)\n",
      "Requirement already satisfied: huggingface-hub<1.0,>=0.30.0 in c:\\users\\hp\\appdata\\local\\programs\\python\\python312\\lib\\site-packages (from transformers) (0.30.2)\n",
      "Requirement already satisfied: packaging>=20.0 in c:\\users\\hp\\appdata\\local\\programs\\python\\python312\\lib\\site-packages (from transformers) (24.1)\n",
      "Requirement already satisfied: pyyaml>=5.1 in c:\\users\\hp\\appdata\\local\\programs\\python\\python312\\lib\\site-packages (from transformers) (6.0.2)\n",
      "Requirement already satisfied: regex!=2019.12.17 in c:\\users\\hp\\appdata\\local\\programs\\python\\python312\\lib\\site-packages (from transformers) (2024.9.11)\n",
      "Requirement already satisfied: tokenizers<0.22,>=0.21 in c:\\users\\hp\\appdata\\local\\programs\\python\\python312\\lib\\site-packages (from transformers) (0.21.1)\n",
      "Requirement already satisfied: safetensors>=0.4.3 in c:\\users\\hp\\appdata\\local\\programs\\python\\python312\\lib\\site-packages (from transformers) (0.5.2)\n",
      "Requirement already satisfied: tqdm>=4.27 in c:\\users\\hp\\appdata\\local\\programs\\python\\python312\\lib\\site-packages (from transformers) (4.66.5)\n",
      "Requirement already satisfied: charset-normalizer<4,>=2 in c:\\users\\hp\\appdata\\local\\programs\\python\\python312\\lib\\site-packages (from requests) (3.3.2)\n",
      "Requirement already satisfied: idna<4,>=2.5 in c:\\users\\hp\\appdata\\local\\programs\\python\\python312\\lib\\site-packages (from requests) (3.10)\n",
      "Requirement already satisfied: urllib3<3,>=1.21.1 in c:\\users\\hp\\appdata\\local\\programs\\python\\python312\\lib\\site-packages (from requests) (1.26.20)\n",
      "Requirement already satisfied: certifi>=2017.4.17 in c:\\users\\hp\\appdata\\local\\programs\\python\\python312\\lib\\site-packages (from requests) (2024.8.30)\n",
      "Requirement already satisfied: python-dateutil>=2.8.2 in c:\\users\\hp\\appdata\\local\\programs\\python\\python312\\lib\\site-packages (from pandas) (2.9.0.post0)\n",
      "Requirement already satisfied: pytz>=2020.1 in c:\\users\\hp\\appdata\\local\\programs\\python\\python312\\lib\\site-packages (from pandas) (2024.2)\n",
      "Requirement already satisfied: tzdata>=2022.7 in c:\\users\\hp\\appdata\\local\\programs\\python\\python312\\lib\\site-packages (from pandas) (2024.1)\n",
      "Requirement already satisfied: soupsieve>1.2 in c:\\users\\hp\\appdata\\local\\programs\\python\\python312\\lib\\site-packages (from beautifulsoup4) (2.6)\n",
      "Requirement already satisfied: fsspec>=2023.5.0 in c:\\users\\hp\\appdata\\local\\programs\\python\\python312\\lib\\site-packages (from huggingface-hub<1.0,>=0.30.0->transformers) (2025.2.0)\n",
      "Requirement already satisfied: typing-extensions>=3.7.4.3 in c:\\users\\hp\\appdata\\local\\programs\\python\\python312\\lib\\site-packages (from huggingface-hub<1.0,>=0.30.0->transformers) (4.12.2)\n",
      "Requirement already satisfied: six>=1.5 in c:\\users\\hp\\appdata\\local\\programs\\python\\python312\\lib\\site-packages (from python-dateutil>=2.8.2->pandas) (1.16.0)\n",
      "Requirement already satisfied: colorama in c:\\users\\hp\\appdata\\local\\programs\\python\\python312\\lib\\site-packages (from tqdm>=4.27->transformers) (0.4.6)\n"
     ]
    }
   ],
   "source": [
    "!pip install transformers requests pandas beautifulsoup4 numpy"
   ]
  },
  {
   "cell_type": "code",
   "execution_count": 11,
   "id": "ff4e2552-39d5-4bbb-9a12-bd54a5d27e68",
   "metadata": {},
   "outputs": [],
   "source": [
    "from transformers import AutoTokenizer, AutoModelForSequenceClassification\n",
    "import torch \n",
    "import requests\n",
    "from bs4 import BeautifulSoup\n",
    "import re"
   ]
  },
  {
   "cell_type": "markdown",
   "id": "6f8b3639-1afe-43c0-89ad-822079748b0b",
   "metadata": {},
   "source": [
    "2. Instantiate Model\n",
    "   "
   ]
  },
  {
   "cell_type": "code",
   "execution_count": 15,
   "id": "ca0de0f0-2fd9-4c7c-b72f-7dfd27dcce8e",
   "metadata": {},
   "outputs": [],
   "source": [
    "tokenizer = AutoTokenizer.from_pretrained('nlptown/bert-base-multilingual-uncased-sentiment')\n",
    "\n",
    "model = AutoModelForSequenceClassification.from_pretrained('nlptown/bert-base-multilingual-uncased-sentiment')"
   ]
  },
  {
   "cell_type": "markdown",
   "id": "14454f21-6e83-4483-80d5-2eb293b7436c",
   "metadata": {},
   "source": [
    "3. Encode and Calculate Sentiment"
   ]
  },
  {
   "cell_type": "code",
   "execution_count": 48,
   "id": "3390c29a-6502-41b8-bed7-163fddb20bf7",
   "metadata": {},
   "outputs": [],
   "source": [
    "tokens = tokenizer.encode('it was good', return_tensors='pt')"
   ]
  },
  {
   "cell_type": "code",
   "execution_count": 49,
   "id": "6845f8bf-e2ac-451d-a0a7-a13a6840d4bf",
   "metadata": {},
   "outputs": [
    {
     "data": {
      "text/plain": [
       "tensor([[  101, 10197, 10140, 12050,   102]])"
      ]
     },
     "execution_count": 49,
     "metadata": {},
     "output_type": "execute_result"
    }
   ],
   "source": [
    "tokens"
   ]
  },
  {
   "cell_type": "code",
   "execution_count": 50,
   "id": "d14eb81f-a2b3-4bca-a98f-83b61b063a0c",
   "metadata": {},
   "outputs": [],
   "source": [
    "result = model(tokens)"
   ]
  },
  {
   "cell_type": "code",
   "execution_count": 51,
   "id": "cb283f8b-a5be-4de0-9e9f-b6b1c00e1623",
   "metadata": {},
   "outputs": [
    {
     "data": {
      "text/plain": [
       "tensor([[-1.8699, -1.1123,  0.8783,  1.3372,  0.6119]],\n",
       "       grad_fn=<AddmmBackward0>)"
      ]
     },
     "execution_count": 51,
     "metadata": {},
     "output_type": "execute_result"
    }
   ],
   "source": [
    "result.logits\n"
   ]
  },
  {
   "cell_type": "code",
   "execution_count": 52,
   "id": "c69e2fcf-a303-45fb-b51d-a7b542c39778",
   "metadata": {},
   "outputs": [
    {
     "data": {
      "text/plain": [
       "4"
      ]
     },
     "execution_count": 52,
     "metadata": {},
     "output_type": "execute_result"
    }
   ],
   "source": [
    "int(torch.argmax(result.logits)) +1\n"
   ]
  },
  {
   "cell_type": "markdown",
   "id": "bb178c93-2832-4971-8907-981f1e071ba8",
   "metadata": {},
   "source": [
    "4. Collect Reviews"
   ]
  },
  {
   "cell_type": "code",
   "execution_count": 87,
   "id": "9c83d82f-26dc-477f-9b2b-aaee7e8133cc",
   "metadata": {},
   "outputs": [],
   "source": [
    "import pandas as pd\n",
    "\n",
    "data_path = r\"C:\\Users\\hp\\Desktop\\Apps\\Graduation-Project-Lic-PFE\\Recommendation System\\Datasets\\DisneyLandReviews.csv\"\n",
    "reviews_df = pd.read_csv(data_path, encoding='latin1')"
   ]
  },
  {
   "cell_type": "code",
   "execution_count": 88,
   "id": "c1132cb7-6dde-4c64-a967-0662149e3e1e",
   "metadata": {},
   "outputs": [
    {
     "name": "stdout",
     "output_type": "stream",
     "text": [
      "   Review_ID  Rating Year_Month     Reviewer_Location  \\\n",
      "0  670772142       4     2019-4             Australia   \n",
      "1  670682799       4     2019-5           Philippines   \n",
      "2  670623270       4     2019-4  United Arab Emirates   \n",
      "3  670607911       4     2019-4             Australia   \n",
      "4  670607296       4     2019-4        United Kingdom   \n",
      "\n",
      "                                         Review_Text               Branch  \n",
      "0  If you've ever been to Disneyland anywhere you...  Disneyland_HongKong  \n",
      "1  Its been a while since d last time we visit HK...  Disneyland_HongKong  \n",
      "2  Thanks God it wasn   t too hot or too humid wh...  Disneyland_HongKong  \n",
      "3  HK Disneyland is a great compact park. Unfortu...  Disneyland_HongKong  \n",
      "4  the location is not in the city, took around 1...  Disneyland_HongKong  \n"
     ]
    }
   ],
   "source": [
    "print(reviews_df.head())"
   ]
  },
  {
   "cell_type": "code",
   "execution_count": 95,
   "id": "72a40340-31ab-4a71-ba61-04cdca132575",
   "metadata": {},
   "outputs": [
    {
     "name": "stdout",
     "output_type": "stream",
     "text": [
      "Its been a while since d last time we visit HK Disneyland .. Yet, this time we only stay in Tomorrowland .. AKA Marvel land!Now they have Iron Man Experience n d Newly open Ant Man n d Wasp!!Ironman .. Great feature n so Exciting, especially d whole scenery of HK (HK central area to Kowloon)!Antman .. Changed by previous Buzz lightyear! More or less d same, but I'm expecting to have something most!!However, my boys like it!!Space Mountain .. Turns into Star Wars!! This 1 is Great!!!For cast members (staffs) .. Felt bit MINUS point from before!!! Just dun feel like its a Disney brand!! Seems more local like Ocean Park or even worst!!They got no SMILING face, but just wanna u to enter n attraction n leave!!Hello this is supposed to be Happiest Place on Earth brand!! But, just really Dont feel it!!Bakery in Main Street now have more attractive delicacies n Disney theme sweets .. These are Good Points!!Last, they also have Starbucks now inside the theme park!!\n"
     ]
    }
   ],
   "source": [
    "single_review = reviews_df['Review_Text'].iloc[1]\n",
    "print(single_review)"
   ]
  },
  {
   "cell_type": "code",
   "execution_count": 99,
   "id": "bf12773e-21e1-4439-85b3-c9dc6d284644",
   "metadata": {},
   "outputs": [],
   "source": [
    "def sentiment_score(reviews_df):\n",
    "    tokens = tokenizer.encode(reviews_df, return_tensors='pt')\n",
    "    result = model(tokens)\n",
    "    return int(torch.argmax(result.logits)) +1"
   ]
  },
  {
   "cell_type": "code",
   "execution_count": 100,
   "id": "28ef1feb-3a80-4943-8fd1-0eb383ca44b9",
   "metadata": {},
   "outputs": [
    {
     "data": {
      "text/plain": [
       "4"
      ]
     },
     "execution_count": 100,
     "metadata": {},
     "output_type": "execute_result"
    }
   ],
   "source": [
    "sentiment_score(single_review)"
   ]
  },
  {
   "cell_type": "code",
   "execution_count": null,
   "id": "d1c2e587-f68e-42fb-955d-25d70d6e8500",
   "metadata": {},
   "outputs": [],
   "source": [
    "reviews_df['sentiment'] = reviews_df['Review_Text'].apply(lambda x: sentiment_score(x[:512]))"
   ]
  },
  {
   "cell_type": "code",
   "execution_count": null,
   "id": "d7628ee2-3295-4ea9-8eaf-9e68ceb0a2fc",
   "metadata": {},
   "outputs": [],
   "source": []
  }
 ],
 "metadata": {
  "kernelspec": {
   "display_name": "Python 3 (ipykernel)",
   "language": "python",
   "name": "python3"
  },
  "language_info": {
   "codemirror_mode": {
    "name": "ipython",
    "version": 3
   },
   "file_extension": ".py",
   "mimetype": "text/x-python",
   "name": "python",
   "nbconvert_exporter": "python",
   "pygments_lexer": "ipython3",
   "version": "3.12.6"
  }
 },
 "nbformat": 4,
 "nbformat_minor": 5
}
