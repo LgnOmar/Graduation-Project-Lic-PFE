{
 "cells": [
  {
   "cell_type": "markdown",
   "id": "f0e5c89d",
   "metadata": {},
   "source": [
    "# 01_eda_and_preprocessing.ipynb\n",
    "\n",
    "This notebook explores the generated dataset and performs basic validation and exploratory data analysis (EDA)."
   ]
  },
  {
   "cell_type": "code",
   "execution_count": null,
   "id": "c16674e3",
   "metadata": {},
   "outputs": [],
   "source": [
    "import pandas as pd\n",
    "import os\n",
    "data_dir = '../data/generated'\n",
    "\n",
    "categories = pd.read_csv(os.path.join(data_dir, 'categories.csv'))\n",
    "professionals = pd.read_csv(os.path.join(data_dir, 'professionals.csv'))\n",
    "professional_selected_categories = pd.read_csv(os.path.join(data_dir, 'professional_selected_categories.csv'))\n",
    "clients = pd.read_csv(os.path.join(data_dir, 'clients.csv'))\n",
    "jobs = pd.read_csv(os.path.join(data_dir, 'jobs.csv'))\n",
    "job_required_categories = pd.read_csv(os.path.join(data_dir, 'job_required_categories.csv'))\n",
    "interactions = pd.read_csv(os.path.join(data_dir, 'interactions.csv'))\n",
    "\n",
    "# Show basic info\n",
    "print('Categories:', categories.shape)\n",
    "print('Professionals:', professionals.shape)\n",
    "print('Clients:', clients.shape)\n",
    "print('Jobs:', jobs.shape)\n",
    "print('Interactions:', interactions.shape)\n",
    "\n",
    "# Check for missing values\n",
    "for df, name in zip([categories, professionals, clients, jobs, interactions], ['categories', 'professionals', 'clients', 'jobs', 'interactions']):\n",
    "    print(f'{name} missing values:\\n', df.isnull().sum())\n",
    "\n",
    "# Example: Distribution of categories per professional\n",
    "import matplotlib.pyplot as plt\n",
    "cat_counts = professional_selected_categories.groupby('professional_id').size()\n",
    "plt.hist(cat_counts, bins=range(1, cat_counts.max()+2))\n",
    "plt.title('Categories per Professional')\n",
    "plt.xlabel('Number of Categories')\n",
    "plt.ylabel('Count')\n",
    "plt.show()"
   ]
  }
 ],
 "metadata": {
  "language_info": {
   "name": "python"
  }
 },
 "nbformat": 4,
 "nbformat_minor": 5
}
