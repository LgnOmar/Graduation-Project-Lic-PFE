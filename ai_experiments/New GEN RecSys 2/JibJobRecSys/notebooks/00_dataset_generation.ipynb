{
 "cells": [
  {
   "cell_type": "markdown",
   "id": "2d1c6db5",
   "metadata": {},
   "source": [
    "# 00_dataset_generation.ipynb\n",
    "\n",
    "This notebook demonstrates the generation of the synthetic JibJobRecSys dataset using the provided configuration."
   ]
  },
  {
   "cell_type": "code",
   "execution_count": null,
   "id": "4fec4f4a",
   "metadata": {},
   "outputs": [],
   "source": [
    "import os\n",
    "from utils.common import load_config\n",
    "from dataset_generator.categories_generator import generate_categories\n",
    "from dataset_generator.users_generator import generate_professionals, generate_clients\n",
    "from dataset_generator.jobs_generator import generate_jobs\n",
    "from dataset_generator.interactions_generator import generate_interactions\n",
    "\n",
    "config = load_config('../config.yaml')\n",
    "data_dir = '../data/generated'\n",
    "os.makedirs(data_dir, exist_ok=True)\n",
    "\n",
    "# Generate categories\n",
    "generate_categories(\n",
    "    num_categories=config['dataset']['num_categories'],\n",
    "    output_path=os.path.join(data_dir, 'categories.csv'),\n",
    "    base_category_definitions=config['dataset']['base_category_definitions'],\n",
    "    random_seed=42\n",
    ")\n",
    "# Generate professionals\n",
    "generate_professionals(\n",
    "    num_professionals=config['dataset']['num_professionals'],\n",
    "    avg_categories=config['dataset']['avg_categories_per_professional'],\n",
    "    categories_path=os.path.join(data_dir, 'categories.csv'),\n",
    "    output_dir=data_dir,\n",
    "    random_seed=42,\n",
    "    min_categories=config['dataset']['min_categories_per_professional'],\n",
    "    max_categories=config['dataset']['max_categories_per_professional']\n",
    ")\n",
    "# Generate clients\n",
    "generate_clients(\n",
    "    num_clients=config['dataset']['num_clients'],\n",
    "    output_dir=data_dir,\n",
    "    random_seed=42\n",
    ")\n",
    "# Generate jobs\n",
    "generate_jobs(\n",
    "    num_jobs=config['dataset']['num_jobs'],\n",
    "    avg_categories_per_job=config['dataset']['avg_categories_per_job'],\n",
    "    clients_path=os.path.join(data_dir, 'clients.csv'),\n",
    "    categories_path=os.path.join(data_dir, 'categories.csv'),\n",
    "    output_dir=data_dir,\n",
    "    random_seed=42,\n",
    "    min_categories=config['dataset']['min_categories_per_job'],\n",
    "    max_categories=config['dataset']['max_categories_per_job']\n",
    ")\n",
    "# Generate interactions\n",
    "generate_interactions(\n",
    "    professionals_path=os.path.join(data_dir, 'professionals.csv'),\n",
    "    jobs_path=os.path.join(data_dir, 'jobs.csv'),\n",
    "    professional_categories_path=os.path.join(data_dir, 'professional_selected_categories.csv'),\n",
    "    job_categories_path=os.path.join(data_dir, 'job_required_categories.csv'),\n",
    "    output_path=os.path.join(data_dir, 'interactions.csv'),\n",
    "    num_interactions_per_professional=config['dataset']['num_interactions_per_professional'],\n",
    "    random_seed=42,\n",
    "    jaccard_prob_offset=config['dataset']['jaccard_prob_offset'],\n",
    "    unrelated_prob=config['dataset']['unrelated_prob']\n",
    ")"
   ]
  }
 ],
 "metadata": {
  "language_info": {
   "name": "python"
  }
 },
 "nbformat": 4,
 "nbformat_minor": 5
}
