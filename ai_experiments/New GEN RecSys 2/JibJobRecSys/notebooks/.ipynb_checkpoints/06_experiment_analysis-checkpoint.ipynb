{
 "cells": [
  {
   "cell_type": "markdown",
   "id": "9c2a809e",
   "metadata": {},
   "source": [
    "# Analyse Comparative des Expériences JibJobRecSys\n",
    "Ce notebook permet de charger et de comparer les résultats de plusieurs expériences (runs) du système de recommandation JibJobRecSys."
   ]
  },
  {
   "cell_type": "code",
   "execution_count": null,
   "id": "cb3a2325",
   "metadata": {},
   "outputs": [],
   "source": [
    "import pandas as pd\n",
    "import matplotlib.pyplot as plt\n",
    "import seaborn as sns\n",
    "import os"
   ]
  },
  {
   "cell_type": "markdown",
   "id": "f188e12c",
   "metadata": {},
   "source": [
    "## 1. Chargement des résultats expérimentaux"
   ]
  },
  {
   "cell_type": "code",
   "execution_count": null,
   "id": "9977dfe1",
   "metadata": {},
   "outputs": [],
   "source": [
    "results_path = '../results/all_experiment_results.csv'\n",
    "results_df = pd.read_csv(results_path)\n",
    "results_df = results_df.sort_values(by='timestamp')\n",
    "results_df.head()"
   ]
  },
  {
   "cell_type": "markdown",
   "id": "3fe8576f",
   "metadata": {},
   "source": [
    "## 2. Tableau des résultats trié par NDCG@10"
   ]
  },
  {
   "cell_type": "code",
   "execution_count": null,
   "id": "0c12695e",
   "metadata": {},
   "outputs": [],
   "source": [
    "if 'NDCG@10' in results_df.columns:\n",
    "    display(results_df.sort_values(by='NDCG@10', ascending=False))\n",
    "else:\n",
    "    display(results_df)"
   ]
  },
  {
   "cell_type": "markdown",
   "id": "816ffb64",
   "metadata": {},
   "source": [
    "## 3. Impact du nombre de hidden channels"
   ]
  },
  {
   "cell_type": "code",
   "execution_count": null,
   "id": "9cc788b0",
   "metadata": {},
   "outputs": [],
   "source": [
    "if 'hidden_channels' in results_df.columns and 'NDCG@10' in results_df.columns:\n",
    "    plt.figure(figsize=(8,6))\n",
    "    grouped = results_df.groupby('hidden_channels').mean(numeric_only=True)\n",
    "    x = grouped.index.astype(str)\n",
    "    plt.bar(x, grouped['NDCG@10'], label='NDCG@10', alpha=0.8)\n",
    "    plt.bar(x, grouped['Precision@10'], label='Precision@10', alpha=0.8)\n",
    "    plt.bar(x, grouped['Recall@10'], label='Recall@10', alpha=0.8)\n",
    "    plt.xlabel('Hidden Channels')\n",
    "    plt.ylabel('Score')\n",
    "    plt.title('Impact of Hidden Channels on Performance')\n",
    "    plt.legend()\n",
    "    plt.tight_layout()\n",
    "    os.makedirs('../visualizations', exist_ok=True)\n",
    "    plt.savefig('../visualizations/performance_vs_hidden_channels.png')\n",
    "    plt.show()"
   ]
  },
  {
   "cell_type": "markdown",
   "id": "68ea9dd7",
   "metadata": {},
   "source": [
    "## 4. Impact du nombre de couches (num_layers)"
   ]
  },
  {
   "cell_type": "code",
   "execution_count": null,
   "id": "58b691d4",
   "metadata": {},
   "outputs": [],
   "source": [
    "if 'num_layers' in results_df.columns and 'NDCG@10' in results_df.columns:\n",
    "    plt.figure(figsize=(8,6))\n",
    "    grouped = results_df.groupby('num_layers').mean(numeric_only=True)\n",
    "    x = grouped.index.astype(str)\n",
    "    plt.bar(x, grouped['NDCG@10'], label='NDCG@10', alpha=0.8)\n",
    "    plt.bar(x, grouped['Precision@10'], label='Precision@10', alpha=0.8)\n",
    "    plt.bar(x, grouped['Recall@10'], label='Recall@10', alpha=0.8)\n",
    "    plt.xlabel('Number of GNN Layers')\n",
    "    plt.ylabel('Score')\n",
    "    plt.title('Impact of Number of GNN Layers on Performance')\n",
    "    plt.legend()\n",
    "    plt.tight_layout()\n",
    "    plt.savefig('../visualizations/performance_vs_num_layers.png')\n",
    "    plt.show()"
   ]
  },
  {
   "cell_type": "markdown",
   "id": "9995582a",
   "metadata": {},
   "source": [
    "## 5. Courbes de perte comparatives (optionnel)"
   ]
  },
  {
   "cell_type": "code",
   "execution_count": null,
   "id": "df2e7a57",
   "metadata": {},
   "outputs": [],
   "source": [
    "import glob\n",
    "# Charger les historiques d'entraînement pour les meilleurs runs\n",
    "history_files = glob.glob('../results/training_history_*.csv')\n",
    "plt.figure(figsize=(10,6))\n",
    "for file in history_files:\n",
    "    hist = pd.read_csv(file)\n",
    "    exp_name = os.path.basename(file).replace('training_history_','').replace('.csv','')\n",
    "    plt.plot(hist['train_loss'], label=f'{exp_name} - train')\n",
    "    plt.plot(hist['val_loss'], label=f'{exp_name} - val', linestyle='--')\n",
    "plt.xlabel('Epoch')\n",
    "plt.ylabel('Loss')\n",
    "plt.title('Comparative Training & Validation Loss Curves')\n",
    "plt.legend()\n",
    "plt.tight_layout()\n",
    "plt.savefig('../visualizations/comparative_loss_curves.png')\n",
    "plt.show()"
   ]
  },
  {
   "cell_type": "markdown",
   "id": "a2a9da8f",
   "metadata": {},
   "source": [
    "## 6. Comparaison RMSE et MAE"
   ]
  },
  {
   "cell_type": "code",
   "execution_count": null,
   "id": "24dc4b4e",
   "metadata": {},
   "outputs": [],
   "source": [
    "if 'hidden_channels' in results_df.columns and 'RMSE' in results_df.columns:\n",
    "    plt.figure(figsize=(8,6))\n",
    "    grouped = results_df.groupby('hidden_channels').mean(numeric_only=True)\n",
    "    x = grouped.index.astype(str)\n",
    "    plt.bar(x, grouped['RMSE'], label='RMSE', alpha=0.8)\n",
    "    plt.bar(x, grouped['MAE'], label='MAE', alpha=0.8)\n",
    "    plt.xlabel('Hidden Channels')\n",
    "    plt.ylabel('Error')\n",
    "    plt.title('RMSE and MAE vs Hidden Channels')\n",
    "    plt.legend()\n",
    "    plt.tight_layout()\n",
    "    plt.savefig('../visualizations/rmse_mae_vs_hidden_channels.png')\n",
    "    plt.show()"
   ]
  }
 ],
 "metadata": {
  "language_info": {
   "name": "python"
  }
 },
 "nbformat": 4,
 "nbformat_minor": 5
}
