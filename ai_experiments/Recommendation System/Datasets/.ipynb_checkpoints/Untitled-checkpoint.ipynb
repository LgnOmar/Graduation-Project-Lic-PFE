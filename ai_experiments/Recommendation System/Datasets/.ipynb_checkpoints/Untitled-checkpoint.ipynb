{
 "cells": [
  {
   "cell_type": "code",
   "execution_count": 10,
   "id": "d48b1a11-1511-47f4-a4a5-a7d069ac91be",
   "metadata": {},
   "outputs": [],
   "source": [
    "import pandas as pd\n",
    "\n",
    "data_path = r\"C:\\Users\\hp\\Desktop\\Apps\\Graduation-Project-Lic-PFE\\Recommendation System\\Datasets\\DisneyLandReviews.csv\"\n",
    "reviews_df = pd.read_csv(data_path, encoding='latin1')"
   ]
  },
  {
   "cell_type": "code",
   "execution_count": 13,
   "id": "a899bef7-1409-4099-a510-70fcb3678efb",
   "metadata": {},
   "outputs": [
    {
     "name": "stdout",
     "output_type": "stream",
     "text": [
      "   Review_ID  Rating Year_Month     Reviewer_Location  \\\n",
      "0  670772142       4     2019-4             Australia   \n",
      "1  670682799       4     2019-5           Philippines   \n",
      "2  670623270       4     2019-4  United Arab Emirates   \n",
      "3  670607911       4     2019-4             Australia   \n",
      "4  670607296       4     2019-4        United Kingdom   \n",
      "\n",
      "                                         Review_Text               Branch  \n",
      "0  If you've ever been to Disneyland anywhere you...  Disneyland_HongKong  \n",
      "1  Its been a while since d last time we visit HK...  Disneyland_HongKong  \n",
      "2  Thanks God it wasn   t too hot or too humid wh...  Disneyland_HongKong  \n",
      "3  HK Disneyland is a great compact park. Unfortu...  Disneyland_HongKong  \n",
      "4  the location is not in the city, took around 1...  Disneyland_HongKong  \n"
     ]
    }
   ],
   "source": [
    "print(reviews_df.head())"
   ]
  },
  {
   "cell_type": "code",
   "execution_count": null,
   "id": "e7d7d955-e958-4430-b35a-225f9cbf5ab4",
   "metadata": {},
   "outputs": [],
   "source": []
  }
 ],
 "metadata": {
  "kernelspec": {
   "display_name": "Python 3 (ipykernel)",
   "language": "python",
   "name": "python3"
  },
  "language_info": {
   "codemirror_mode": {
    "name": "ipython",
    "version": 3
   },
   "file_extension": ".py",
   "mimetype": "text/x-python",
   "name": "python",
   "nbconvert_exporter": "python",
   "pygments_lexer": "ipython3",
   "version": "3.12.6"
  }
 },
 "nbformat": 4,
 "nbformat_minor": 5
}
