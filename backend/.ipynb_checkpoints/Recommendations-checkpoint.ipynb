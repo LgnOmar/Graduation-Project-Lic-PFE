{
 "cells": [
  {
   "cell_type": "code",
   "execution_count": null,
   "id": "bfee71c8-13d7-482e-a17a-33db3b7b4bc7",
   "metadata": {},
   "outputs": [],
   "source": [
    "from sklearn.feature_extraciton.text import tfidfVectoizer\n",
    "from sklearn.metrics.pairwise import cosine_similarity\n",
    "import pandas as pd\n",
    "\n",
    "vectorizer = tfidfVectorizer(stop_words='engish', ngram_range=(1,2))\n",
    "\n",
    "tfidf_matrix = None\n",
    "job_indices = None\n",
    "\n",
    "# Create a mock DataFrame with 5 example jobs\n",
    "jobs_data = {\n",
    "    'id': ['job1', 'job2', 'job3', 'job4', 'job5'],\n",
    "    'title': [\n",
    "        'Fix Kitchen Sink',\n",
    "        'Help Moving Furniture',\n",
    "        'Gardening Work',\n",
    "        'Electrical Wiring Repair',\n",
    "        'Clean Office Space'\n",
    "    ],\n",
    "    'description': [\n",
    "        'Repair broken pipes under kitchen sink, must have plumbing tools',\n",
    "        'Carry boxes and furniture to moving truck, heavy lifting required',\n",
    "        'Mow lawn, trim hedges, and plant flowers in backyard',\n",
    "        'Fix faulty wiring in residential building, licensed electricians only',\n",
    "        'Deep clean office desks, floors, and windows twice a week'\n",
    "    ],\n",
    "    'category': [\n",
    "        'Plumbing',\n",
    "        'Moving',\n",
    "        'Gardening',\n",
    "        'Electrical',\n",
    "        'Cleaning'\n",
    "    ]\n",
    "}\n",
    "\n",
    "jobs_df = pd.DataFrame(jobs_data)\n",
    "\n",
    "# Display the mock data\n",
    "print(\"Sample DataFrame:\")\n",
    "print(jobs_df)\n",
    "\n",
    "\n",
    "def compute_tfidf(jobs_df):\n",
    "    global tfidf_matrix,job_indices\n",
    "\n",
    "    job_df['text_feature'] = job_df['title'] + ' ' + job_df['job_description'] + ' ' + job_df['job_category'] \n",
    "\n",
    "    tfidf_matrix = vectorizer.fit_transform(job_df['text_features'])\n",
    "\n",
    "    job_indices = pd.Series(job_df.index, index=job_df['id'])\n",
    "\n",
    "    print(\"TF-IDF matrix computed\")"
   ]
  }
 ],
 "metadata": {
  "kernelspec": {
   "display_name": "Python 3 (ipykernel)",
   "language": "python",
   "name": "python3"
  },
  "language_info": {
   "codemirror_mode": {
    "name": "ipython",
    "version": 3
   },
   "file_extension": ".py",
   "mimetype": "text/x-python",
   "name": "python",
   "nbconvert_exporter": "python",
   "pygments_lexer": "ipython3",
   "version": "3.12.6"
  }
 },
 "nbformat": 4,
 "nbformat_minor": 5
}
