{
 "cells": [
  {
   "cell_type": "code",
   "execution_count": 4,
   "id": "bfee71c8-13d7-482e-a17a-33db3b7b4bc7",
   "metadata": {},
   "outputs": [],
   "source": [
    "from sklearn.feature_extraction.text import TfidfVectorizer\n",
    "from sklearn.metrics.pairwise import cosine_similarity\n",
    "import pandas as pd"
   ]
  },
  {
   "cell_type": "code",
   "execution_count": 5,
   "id": "d3012971-cbc3-4ec8-9945-c100ba9591ca",
   "metadata": {},
   "outputs": [
    {
     "name": "stdout",
     "output_type": "stream",
     "text": [
      "Sample DataFrame:\n",
      "     id                     title  \\\n",
      "0  job1          Fix Kitchen Sink   \n",
      "1  job2     Help Moving Furniture   \n",
      "2  job3            Gardening Work   \n",
      "3  job4  Electrical Wiring Repair   \n",
      "4  job5        Clean Office Space   \n",
      "\n",
      "                                         description    category  \n",
      "0  Repair broken pipes under kitchen sink, must h...    Plumbing  \n",
      "1  Carry boxes and furniture to moving truck, hea...      Moving  \n",
      "2  Mow lawn, trim hedges, and plant flowers in ba...   Gardening  \n",
      "3  Fix faulty wiring in residential building, lic...  Electrical  \n",
      "4  Deep clean office desks, floors, and windows t...    Cleaning  \n"
     ]
    }
   ],
   "source": [
    "import pandas as pd\n",
    "\n",
    "# Create a mock DataFrame with 5 example jobs\n",
    "jobs_data = {\n",
    "    'id': ['job1', 'job2', 'job3', 'job4', 'job5'],\n",
    "    'title': [\n",
    "        'Fix Kitchen Sink',\n",
    "        'Help Moving Furniture',\n",
    "        'Gardening Work',\n",
    "        'Electrical Wiring Repair',\n",
    "        'Clean Office Space'\n",
    "    ],\n",
    "    'description': [\n",
    "        'Repair broken pipes under kitchen sink, must have plumbing tools',\n",
    "        'Carry boxes and furniture to moving truck, heavy lifting required',\n",
    "        'Mow lawn, trim hedges, and plant flowers in backyard',\n",
    "        'Fix faulty wiring in residential building, licensed electricians only',\n",
    "        'Deep clean office desks, floors, and windows twice a week'\n",
    "    ],\n",
    "    'category': [\n",
    "        'Plumbing',\n",
    "        'Moving',\n",
    "        'Gardening',\n",
    "        'Electrical',\n",
    "        'Cleaning'\n",
    "    ]\n",
    "}\n",
    "\n",
    "jobs_df = pd.DataFrame(jobs_data)\n",
    "\n",
    "# Display the mock data\n",
    "print(\"Sample DataFrame:\")\n",
    "print(jobs_df)"
   ]
  },
  {
   "cell_type": "code",
   "execution_count": 12,
   "id": "563c7d9a-eca7-4afe-9b0d-dc8c82e3e55a",
   "metadata": {},
   "outputs": [
    {
     "name": "stdout",
     "output_type": "stream",
     "text": [
      "TF-IDF matrix shape: (5, 92)\n"
     ]
    }
   ],
   "source": [
    "from sklearn.feature_extraction.text import TfidfVectorizer\n",
    "\n",
    "vectorizer = TfidfVectorizer(stop_words='english', ngram_range=(1,2))\n",
    "tfidf_matrix = None\n",
    "job_indices = None\n",
    "\n",
    "def compute_tfidf(jobs_df):\n",
    "    global tfidf_matrix, job_indices\n",
    "    jobs_df['text_features'] = jobs_df['title'] + ' ' + jobs_df['description'] + ' ' + jobs_df['category']\n",
    "    tfidf_matrix = vectorizer.fit_transform(jobs_df['text_features'])\n",
    "    job_indices = pd.Series(jobs_df.index, index=jobs_df['id'])\n",
    "    print(\"TF-IDF matrix shape:\", tfidf_matrix.shape)\n",
    "\n",
    "# Execute\n",
    "compute_tfidf(jobs_df)"
   ]
  },
  {
   "cell_type": "code",
   "execution_count": 13,
   "id": "1154a0c2-4616-45ca-971e-ac19d2a2a5cd",
   "metadata": {},
   "outputs": [
    {
     "name": "stdout",
     "output_type": "stream",
     "text": [
      "\n",
      "Combined text features:\n",
      "0    Fix Kitchen Sink Repair broken pipes under kit...\n",
      "1    Help Moving Furniture Carry boxes and furnitur...\n",
      "2    Gardening Work Mow lawn, trim hedges, and plan...\n",
      "3    Electrical Wiring Repair Fix faulty wiring in ...\n",
      "4    Clean Office Space Deep clean office desks, fl...\n",
      "Name: text_features, dtype: object\n",
      "\n",
      "TF-IDF matrix samples:\n",
      "[[0.         0.         0.         0.         0.18797181 0.18797181\n",
      "  0.         0.         0.         0.         0.         0.\n",
      "  0.         0.         0.         0.         0.         0.\n",
      "  0.         0.         0.         0.         0.         0.15165447\n",
      "  0.         0.18797181 0.         0.         0.         0.\n",
      "  0.         0.         0.         0.         0.         0.\n",
      "  0.         0.         0.         0.         0.         0.37594362\n",
      "  0.37594362 0.         0.         0.         0.         0.\n",
      "  0.         0.         0.         0.         0.         0.\n",
      "  0.         0.         0.         0.18797181 0.18797181 0.\n",
      "  0.         0.37594362 0.18797181 0.15165447 0.18797181 0.\n",
      "  0.         0.         0.         0.         0.37594362 0.18797181\n",
      "  0.18797181 0.         0.         0.18797181 0.18797181 0.\n",
      "  0.         0.         0.         0.         0.         0.\n",
      "  0.         0.         0.         0.         0.         0.\n",
      "  0.         0.        ]\n",
      " [0.         0.         0.1796053  0.1796053  0.         0.\n",
      "  0.         0.         0.1796053  0.1796053  0.         0.\n",
      "  0.         0.         0.         0.         0.         0.\n",
      "  0.         0.         0.         0.         0.         0.\n",
      "  0.         0.         0.         0.         0.         0.\n",
      "  0.3592106  0.1796053  0.1796053  0.         0.         0.1796053\n",
      "  0.1796053  0.         0.         0.1796053  0.1796053  0.\n",
      "  0.         0.         0.         0.         0.         0.1796053\n",
      "  0.1796053  0.53881591 0.1796053  0.1796053  0.         0.\n",
      "  0.         0.         0.         0.         0.         0.\n",
      "  0.         0.         0.         0.         0.         0.\n",
      "  0.1796053  0.1796053  0.         0.         0.         0.\n",
      "  0.         0.         0.         0.         0.         0.\n",
      "  0.         0.1796053  0.1796053  0.         0.         0.\n",
      "  0.         0.         0.         0.         0.         0.\n",
      "  0.         0.        ]]\n",
      "\n",
      "Feature names (first 20):\n",
      "['backyard' 'backyard gardening' 'boxes' 'boxes furniture' 'broken'\n",
      " 'broken pipes' 'building' 'building licensed' 'carry' 'carry boxes'\n",
      " 'clean' 'clean office' 'cleaning' 'deep' 'deep clean' 'desks'\n",
      " 'desks floors' 'electrical' 'electrical wiring' 'electricians']\n",
      "\n",
      "Job ID to matrix row mapping:\n",
      "id\n",
      "job1    0\n",
      "job2    1\n",
      "job3    2\n",
      "job4    3\n",
      "job5    4\n",
      "dtype: int64\n"
     ]
    }
   ],
   "source": [
    "# See the combined text features\n",
    "print(\"\\nCombined text features:\")\n",
    "print(jobs_df['text_features'])\n",
    "\n",
    "# See the TF-IDF matrix (first 2 jobs)\n",
    "print(\"\\nTF-IDF matrix samples:\")\n",
    "print(tfidf_matrix[:2].toarray())  # Convert sparse matrix to dense for viewing\n",
    "\n",
    "# See feature names (words/phrases)\n",
    "print(\"\\nFeature names (first 20):\")\n",
    "print(vectorizer.get_feature_names_out()[:20])\n",
    "\n",
    "# Verify job indices mapping\n",
    "print(\"\\nJob ID to matrix row mapping:\")\n",
    "print(job_indices)"
   ]
  },
  {
   "cell_type": "code",
   "execution_count": 14,
   "id": "d77ad3e2-94ba-4846-9d24-a8afa8b3c61b",
   "metadata": {},
   "outputs": [
    {
     "name": "stdout",
     "output_type": "stream",
     "text": [
      "     id                     title  \\\n",
      "0  job1          Fix Kitchen Sink   \n",
      "1  job2     Help Moving Furniture   \n",
      "2  job3            Gardening Work   \n",
      "3  job4  Electrical Wiring Repair   \n",
      "4  job5        Clean Office Space   \n",
      "\n",
      "                                         description    category  \\\n",
      "0  Repair broken pipes under kitchen sink, must h...    Plumbing   \n",
      "1  Carry boxes and furniture to moving truck, hea...      Moving   \n",
      "2  Mow lawn, trim hedges, and plant flowers in ba...   Gardening   \n",
      "3  Fix faulty wiring in residential building, lic...  Electrical   \n",
      "4  Deep clean office desks, floors, and windows t...    Cleaning   \n",
      "\n",
      "                                       text_features  \n",
      "0  Fix Kitchen Sink Repair broken pipes under kit...  \n",
      "1  Help Moving Furniture Carry boxes and furnitur...  \n",
      "2  Gardening Work Mow lawn, trim hedges, and plan...  \n",
      "3  Electrical Wiring Repair Fix faulty wiring in ...  \n",
      "4  Clean Office Space Deep clean office desks, fl...  \n"
     ]
    }
   ],
   "source": [
    "print(jobs_df)"
   ]
  },
  {
   "cell_type": "code",
   "execution_count": 21,
   "id": "95ff9a5f-d6f5-40c8-8d93-106b65404480",
   "metadata": {},
   "outputs": [
    {
     "data": {
      "text/plain": [
       "[]"
      ]
     },
     "execution_count": 21,
     "metadata": {},
     "output_type": "execute_result"
    }
   ],
   "source": [
    "def get_similar_jobs(job_id, top_n=5):\n",
    "    global tfidf_matrix, job_indices\n",
    "    if tfidf_matrix is None or job_id not in job_indices:\n",
    "        return [] # Not ready or job not found\n",
    "\n",
    "    idx = job_indices[job_id] # Get the matrix row index for the job_id\n",
    "    # Compute cosine similarity between this job (idx) and all jobs\n",
    "    cosine_sim = cosine_similarity(tfidf_matrix[idx], tfidf_matrix)\n",
    "\n",
    "    # Get similarity scores for all jobs, sort them\n",
    "    sim_scores = list(enumerate(cosine_sim[0])) # [(idx, score), ...]\n",
    "    sim_scores = sorted(sim_scores, key=lambda x: x[1], reverse=True)\n",
    "\n",
    "    # Get scores of the top_n most similar jobs (excluding itself)\n",
    "    sim_scores = sim_scores[1:top_n+1] # Skip the first one (itself)\n",
    "\n",
    "    # Get the job indices from the scores\n",
    "    job_idx_matches = [i[0] for i in sim_scores]\n",
    "\n",
    "    # Convert matrix indices back to original job IDs\n",
    "    similar_job_ids = job_indices.iloc[job_idx_matches].index.tolist()\n",
    "    return similar_job_ids\n",
    "\n",
    "get_similar_jobs(2, top_n=5)"
   ]
  },
  {
   "cell_type": "code",
   "execution_count": null,
   "id": "b090c439-8331-465c-89d7-0be906ec96cd",
   "metadata": {},
   "outputs": [],
   "source": []
  }
 ],
 "metadata": {
  "kernelspec": {
   "display_name": "Python 3 (ipykernel)",
   "language": "python",
   "name": "python3"
  },
  "language_info": {
   "codemirror_mode": {
    "name": "ipython",
    "version": 3
   },
   "file_extension": ".py",
   "mimetype": "text/x-python",
   "name": "python",
   "nbconvert_exporter": "python",
   "pygments_lexer": "ipython3",
   "version": "3.12.6"
  }
 },
 "nbformat": 4,
 "nbformat_minor": 5
}
